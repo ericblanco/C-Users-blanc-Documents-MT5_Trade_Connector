{
  "nbformat": 4,
  "nbformat_minor": 0,
  "metadata": {
    "colab": {
      "name": "Coca cola stock prediciton",
      "provenance": [],
      "collapsed_sections": [],
      "authorship_tag": "ABX9TyMAB/F6r7qSUOlg9ATwpNyC",
      "include_colab_link": true
    },
    "kernelspec": {
      "display_name": "Python 3",
      "name": "python3"
    }
  },
  "cells": [
    {
      "cell_type": "markdown",
      "metadata": {
        "id": "view-in-github",
        "colab_type": "text"
      },
      "source": [
        "<a href=\"https://colab.research.google.com/github/ericblancovid/C-Users-blanc-Documents-MT5_Trade_Connector/blob/master/Coca_cola_stock_prediciton.ipynb\" target=\"_parent\"><img src=\"https://colab.research.google.com/assets/colab-badge.svg\" alt=\"Open In Colab\"/></a>"
      ]
    },
    {
      "cell_type": "code",
      "metadata": {
        "id": "de2ynlYalPTu"
      },
      "source": [
        "# this program predicts the price of a stock for a specific day\r\n",
        "# using machine learning\r\n"
      ],
      "execution_count": 23,
      "outputs": []
    },
    {
      "cell_type": "code",
      "metadata": {
        "id": "yej2RQc6laEl"
      },
      "source": [
        "#import libraries sklearn numpy pandas matplotlib\r\n",
        "from sklearn.svm import SVR\r\n",
        "import numpy as np\r\n",
        "import pandas as pd\r\n",
        "import matplotlib.pyplot as plt\r\n",
        "plt.style.use('fivethirtyeight')"
      ],
      "execution_count": 24,
      "outputs": []
    },
    {
      "cell_type": "code",
      "metadata": {
        "colab": {
          "resources": {
            "http://localhost:8080/nbextensions/google.colab/files.js": {
              "data": "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",
              "ok": true,
              "headers": [
                [
                  "content-type",
                  "application/javascript"
                ]
              ],
              "status": 200,
              "status_text": ""
            }
          },
          "base_uri": "https://localhost:8080/",
          "height": 109
        },
        "id": "4ghlijvnmHOF",
        "outputId": "a8c77a1e-3aec-4a4a-f63f-2072e4333f1e"
      },
      "source": [
        "#load data\r\n",
        "from google.colab import files\r\n",
        "files.upload()"
      ],
      "execution_count": 25,
      "outputs": [
        {
          "output_type": "display_data",
          "data": {
            "text/html": [
              "\n",
              "     <input type=\"file\" id=\"files-34f2569f-6de8-4d4a-8d4c-927624a78a8d\" name=\"files[]\" multiple disabled\n",
              "        style=\"border:none\" />\n",
              "     <output id=\"result-34f2569f-6de8-4d4a-8d4c-927624a78a8d\">\n",
              "      Upload widget is only available when the cell has been executed in the\n",
              "      current browser session. Please rerun this cell to enable.\n",
              "      </output>\n",
              "      <script src=\"/nbextensions/google.colab/files.js\"></script> "
            ],
            "text/plain": [
              "<IPython.core.display.HTML object>"
            ]
          },
          "metadata": {
            "tags": []
          }
        },
        {
          "output_type": "stream",
          "text": [
            "Saving ko_price-history.csv to ko_price-history (1).csv\n"
          ],
          "name": "stdout"
        },
        {
          "output_type": "execute_result",
          "data": {
            "text/plain": [
              "{'ko_price-history.csv': b'Date,Open,High,Low,Close,Change,%Chg,Volume\\r\\n01/29/2021,48.85,49.12,48.11,48.15,-1,-2.03%,18670200\\r\\n01/28/2021,48.69,49.5,48.61,49.15,0.62,+1.28%,17498800\\r\\n01/27/2021,48.89,49.32,48.23,48.53,-0.76,-1.54%,21242400\\r\\n01/26/2021,48.91,49.4,48.61,49.29,0.51,+1.05%,12922600\\r\\n01/25/2021,48.42,48.84,48.24,48.78,0.29,+0.60%,16604200\\r\\n01/22/2021,48.81,48.94,48.49,48.49,-0.46,-0.94%,15400300\\r\\n01/21/2021,48.78,49.09,48.46,48.95,0.27,+0.55%,19707100\\r\\n01/20/2021,48.54,48.82,48.31,48.68,0.17,+0.35%,23115700\\r\\n01/19/2021,48.74,49.04,48.24,48.51,-0.19,-0.39%,29114400\\r\\n01/15/2021,49.155,49.1799,48.53,48.7,-0.53,-1.08%,24366700\\r\\n01/14/2021,50.16,50.18,49.22,49.23,-0.93,-1.85%,34303500\\r\\n01/13/2021,49.98,50.36,49.9533,50.16,0.05,+0.10%,18864100\\r\\n01/12/2021,50.04,50.3684,49.76,50.11,-0.09,-0.18%,18538600\\r\\n01/11/2021,50.62,50.86,49.95,50.2,-0.88,-1.72%,19310500\\r\\n01/08/2021,50.03,51.125,49.84,51.08,1.12,+2.24%,29673900\\r\\n01/07/2021,50.09,50.255,49.52,49.96,-0.56,-1.11%,53225700\\r\\n01/06/2021,51.97,52.02,50.1879,50.52,-1.66,-3.18%,38724500\\r\\n01/05/2021,52.33,52.62,52.03,52.18,-0.58,-1.10%,20323800\\r\\n01/04/2021,54.27,54.63,52.03,52.76,-2.08,-3.79%,25611100\\r\\n12/31/2020,54.45,54.93,54.27,54.84,0.4,+0.73%,8494900\\r\\n12/30/2020,54.05,54.63,54.03,54.44,0.31,+0.57%,8142700\\r\\n12/29/2020,54.45,54.49,54.02,54.13,-0.03,-0.06%,8320600\\r\\n12/28/2020,53.85,54.435,53.73,54.16,0.72,+1.35%,9020400\\r\\n12/24/2020,53.02,53.55,53.02,53.44,0.36,+0.68%,3265500\\r\\n12/23/2020,52.95,53.3861,52.94,53.08,0.32,+0.61%,7040600\\r\\n12/22/2020,52.81,53.18,52.39,52.76,-0.05,-0.09%,9691500\\r\\n12/21/2020,52.68,53,51.98,52.81,-0.93,-1.73%,14926600\\r\\n12/18/2020,53.08,53.84,52.62,53.74,0.47,+0.88%,35480100\\r\\n12/17/2020,53.3,53.71,53.15,53.27,0.21,+0.40%,12677300\\r\\n12/16/2020,53.6,53.8,52.94,53.06,-0.78,-1.45%,15679600\\r\\n12/15/2020,53.79,54.22,53.595,53.84,0.57,+1.07%,16194400\\r\\n12/14/2020,53.65,53.84,53.18,53.27,-0.08,-0.15%,22292000\\r\\n12/11/2020,52.8,53.54,52.78,53.35,0.3,+0.57%,10638100\\r\\n12/10/2020,53.4,53.51,52.98,53.05,-0.28,-0.53%,12097300\\r\\n12/09/2020,53.37,53.6,53,53.33,0.15,+0.28%,11508500\\r\\n12/08/2020,52.94,53.48,52.785,53.18,0.19,+0.36%,12485800\\r\\n12/07/2020,53.76,53.78,52.7,52.99,-0.86,-1.60%,16210800\\r\\n12/04/2020,52.78,53.87,52.76,53.85,1.07,+2.03%,18122300\\r\\n12/03/2020,51.9,52.94,51.9,52.78,0.67,+1.29%,17318800\\r\\n12/02/2020,51.9,52.13,51.635,52.11,0.07,+0.13%,14913000\\r\\n12/01/2020,52.14,52.33,51.785,52.04,0.44,+0.85%,18969300\\r\\n11/30/2020,52.09,52.19,51.08,51.6,-1.1,-2.09%,43203500\\r\\n11/27/2020,53.11,53.19,52.61,52.7,-0.23,-0.43%,8499200\\r\\n11/25/2020,53.07,53.28,52.79,52.93,-0.29,-0.54%,10194700\\r\\n11/24/2020,53.14,53.59,53.02,53.22,0.54,+1.03%,13836300\\r\\n11/23/2020,52.95,53.17,52.2,52.68,0.01,+0.02%,13194000\\r\\n11/20/2020,53.19,53.25,52.59,52.67,-0.46,-0.87%,15647900\\r\\n11/19/2020,52.49,53.23,51.95,53.13,0.52,+0.99%,17189500\\r\\n11/18/2020,53.75,54.02,52.56,52.61,-1.07,-1.99%,15278200\\r\\n11/17/2020,53.66,53.75,53.025,53.68,-0.17,-0.32%,14248300\\r\\n11/16/2020,54.5,54.62,53.28,53.85,0.4,+0.75%,14908100\\r\\n11/13/2020,53.25,53.5,52.8901,53.45,0.44,+0.83%,12449400\\r\\n11/12/2020,53.05,53.21,52.605,53.01,-0.57,-1.06%,15026900\\r\\n11/11/2020,53.93,54.3,53.33,53.58,-0.4,-0.74%,17399900\\r\\n11/10/2020,52.57,54.28,52.45,53.98,1.41,+2.68%,29706600\\r\\n11/09/2020,52.53,53.26,52.07,52.57,3.12,+6.31%,33441900\\r\\n11/06/2020,49.65,49.99,49.25,49.45,0.01,+0.02%,9294900\\r\\n11/05/2020,49.76,50.21,49.34,49.44,0.27,+0.55%,12452400\\r\\n11/04/2020,49.43,50.21,49.08,49.17,-0.18,-0.36%,12930800\\r\\n11/03/2020,49.22,49.96,49,49.35,0.73,+1.50%,15285000\\r\\n11/02/2020,48.75,48.95,48.24,48.62,0.56,+1.17%,15156100\\r\\n10/30/2020,47.81,48.1216,47.365,48.06,0.04,+0.08%,15805000\\r\\n10/29/2020,47.73,48.475,47.3,48.02,0.06,+0.13%,15369800\\r\\n10/28/2020,49,49.15,47.78,47.96,-1.94,-3.89%,19886100'}"
            ]
          },
          "metadata": {
            "tags": []
          },
          "execution_count": 25
        }
      ]
    },
    {
      "cell_type": "code",
      "metadata": {
        "id": "PgzMRXExypFh",
        "colab": {
          "base_uri": "https://localhost:8080/",
          "height": 419
        },
        "outputId": "016458e7-ee65-49e3-c959-85070a019d4e"
      },
      "source": [
        "#store the data f price history\r\n",
        "df = pd.read_csv('ko_price-history.csv')\r\n",
        "df\r\n"
      ],
      "execution_count": 70,
      "outputs": [
        {
          "output_type": "execute_result",
          "data": {
            "text/html": [
              "<div>\n",
              "<style scoped>\n",
              "    .dataframe tbody tr th:only-of-type {\n",
              "        vertical-align: middle;\n",
              "    }\n",
              "\n",
              "    .dataframe tbody tr th {\n",
              "        vertical-align: top;\n",
              "    }\n",
              "\n",
              "    .dataframe thead th {\n",
              "        text-align: right;\n",
              "    }\n",
              "</style>\n",
              "<table border=\"1\" class=\"dataframe\">\n",
              "  <thead>\n",
              "    <tr style=\"text-align: right;\">\n",
              "      <th></th>\n",
              "      <th>Date</th>\n",
              "      <th>Open</th>\n",
              "      <th>High</th>\n",
              "      <th>Low</th>\n",
              "      <th>Close</th>\n",
              "      <th>Change</th>\n",
              "      <th>%Chg</th>\n",
              "      <th>Volume</th>\n",
              "    </tr>\n",
              "  </thead>\n",
              "  <tbody>\n",
              "    <tr>\n",
              "      <th>0</th>\n",
              "      <td>01/29/2021</td>\n",
              "      <td>48.85</td>\n",
              "      <td>49.1200</td>\n",
              "      <td>48.110</td>\n",
              "      <td>48.15</td>\n",
              "      <td>-1.00</td>\n",
              "      <td>-2.03%</td>\n",
              "      <td>18670200</td>\n",
              "    </tr>\n",
              "    <tr>\n",
              "      <th>1</th>\n",
              "      <td>01/28/2021</td>\n",
              "      <td>48.69</td>\n",
              "      <td>49.5000</td>\n",
              "      <td>48.610</td>\n",
              "      <td>49.15</td>\n",
              "      <td>0.62</td>\n",
              "      <td>+1.28%</td>\n",
              "      <td>17498800</td>\n",
              "    </tr>\n",
              "    <tr>\n",
              "      <th>2</th>\n",
              "      <td>01/27/2021</td>\n",
              "      <td>48.89</td>\n",
              "      <td>49.3200</td>\n",
              "      <td>48.230</td>\n",
              "      <td>48.53</td>\n",
              "      <td>-0.76</td>\n",
              "      <td>-1.54%</td>\n",
              "      <td>21242400</td>\n",
              "    </tr>\n",
              "    <tr>\n",
              "      <th>3</th>\n",
              "      <td>01/26/2021</td>\n",
              "      <td>48.91</td>\n",
              "      <td>49.4000</td>\n",
              "      <td>48.610</td>\n",
              "      <td>49.29</td>\n",
              "      <td>0.51</td>\n",
              "      <td>+1.05%</td>\n",
              "      <td>12922600</td>\n",
              "    </tr>\n",
              "    <tr>\n",
              "      <th>4</th>\n",
              "      <td>01/25/2021</td>\n",
              "      <td>48.42</td>\n",
              "      <td>48.8400</td>\n",
              "      <td>48.240</td>\n",
              "      <td>48.78</td>\n",
              "      <td>0.29</td>\n",
              "      <td>+0.60%</td>\n",
              "      <td>16604200</td>\n",
              "    </tr>\n",
              "    <tr>\n",
              "      <th>...</th>\n",
              "      <td>...</td>\n",
              "      <td>...</td>\n",
              "      <td>...</td>\n",
              "      <td>...</td>\n",
              "      <td>...</td>\n",
              "      <td>...</td>\n",
              "      <td>...</td>\n",
              "      <td>...</td>\n",
              "    </tr>\n",
              "    <tr>\n",
              "      <th>59</th>\n",
              "      <td>11/03/2020</td>\n",
              "      <td>49.22</td>\n",
              "      <td>49.9600</td>\n",
              "      <td>49.000</td>\n",
              "      <td>49.35</td>\n",
              "      <td>0.73</td>\n",
              "      <td>+1.50%</td>\n",
              "      <td>15285000</td>\n",
              "    </tr>\n",
              "    <tr>\n",
              "      <th>60</th>\n",
              "      <td>11/02/2020</td>\n",
              "      <td>48.75</td>\n",
              "      <td>48.9500</td>\n",
              "      <td>48.240</td>\n",
              "      <td>48.62</td>\n",
              "      <td>0.56</td>\n",
              "      <td>+1.17%</td>\n",
              "      <td>15156100</td>\n",
              "    </tr>\n",
              "    <tr>\n",
              "      <th>61</th>\n",
              "      <td>10/30/2020</td>\n",
              "      <td>47.81</td>\n",
              "      <td>48.1216</td>\n",
              "      <td>47.365</td>\n",
              "      <td>48.06</td>\n",
              "      <td>0.04</td>\n",
              "      <td>+0.08%</td>\n",
              "      <td>15805000</td>\n",
              "    </tr>\n",
              "    <tr>\n",
              "      <th>62</th>\n",
              "      <td>10/29/2020</td>\n",
              "      <td>47.73</td>\n",
              "      <td>48.4750</td>\n",
              "      <td>47.300</td>\n",
              "      <td>48.02</td>\n",
              "      <td>0.06</td>\n",
              "      <td>+0.13%</td>\n",
              "      <td>15369800</td>\n",
              "    </tr>\n",
              "    <tr>\n",
              "      <th>63</th>\n",
              "      <td>10/28/2020</td>\n",
              "      <td>49.00</td>\n",
              "      <td>49.1500</td>\n",
              "      <td>47.780</td>\n",
              "      <td>47.96</td>\n",
              "      <td>-1.94</td>\n",
              "      <td>-3.89%</td>\n",
              "      <td>19886100</td>\n",
              "    </tr>\n",
              "  </tbody>\n",
              "</table>\n",
              "<p>64 rows × 8 columns</p>\n",
              "</div>"
            ],
            "text/plain": [
              "          Date   Open     High     Low  Close  Change    %Chg    Volume\n",
              "0   01/29/2021  48.85  49.1200  48.110  48.15   -1.00  -2.03%  18670200\n",
              "1   01/28/2021  48.69  49.5000  48.610  49.15    0.62  +1.28%  17498800\n",
              "2   01/27/2021  48.89  49.3200  48.230  48.53   -0.76  -1.54%  21242400\n",
              "3   01/26/2021  48.91  49.4000  48.610  49.29    0.51  +1.05%  12922600\n",
              "4   01/25/2021  48.42  48.8400  48.240  48.78    0.29  +0.60%  16604200\n",
              "..         ...    ...      ...     ...    ...     ...     ...       ...\n",
              "59  11/03/2020  49.22  49.9600  49.000  49.35    0.73  +1.50%  15285000\n",
              "60  11/02/2020  48.75  48.9500  48.240  48.62    0.56  +1.17%  15156100\n",
              "61  10/30/2020  47.81  48.1216  47.365  48.06    0.04  +0.08%  15805000\n",
              "62  10/29/2020  47.73  48.4750  47.300  48.02    0.06  +0.13%  15369800\n",
              "63  10/28/2020  49.00  49.1500  47.780  47.96   -1.94  -3.89%  19886100\n",
              "\n",
              "[64 rows x 8 columns]"
            ]
          },
          "metadata": {
            "tags": []
          },
          "execution_count": 70
        }
      ]
    },
    {
      "cell_type": "code",
      "metadata": {
        "id": "DzKO2xOGy3sO",
        "colab": {
          "base_uri": "https://localhost:8080/",
          "height": 80
        },
        "outputId": "4f1516fb-5fc8-457f-bc08-bd691b6284da"
      },
      "source": [
        "#show and store the last of row of data \r\n",
        "actual_price = df.tail(1)\r\n",
        "#show the data \r\n",
        "actual_price"
      ],
      "execution_count": 71,
      "outputs": [
        {
          "output_type": "execute_result",
          "data": {
            "text/html": [
              "<div>\n",
              "<style scoped>\n",
              "    .dataframe tbody tr th:only-of-type {\n",
              "        vertical-align: middle;\n",
              "    }\n",
              "\n",
              "    .dataframe tbody tr th {\n",
              "        vertical-align: top;\n",
              "    }\n",
              "\n",
              "    .dataframe thead th {\n",
              "        text-align: right;\n",
              "    }\n",
              "</style>\n",
              "<table border=\"1\" class=\"dataframe\">\n",
              "  <thead>\n",
              "    <tr style=\"text-align: right;\">\n",
              "      <th></th>\n",
              "      <th>Date</th>\n",
              "      <th>Open</th>\n",
              "      <th>High</th>\n",
              "      <th>Low</th>\n",
              "      <th>Close</th>\n",
              "      <th>Change</th>\n",
              "      <th>%Chg</th>\n",
              "      <th>Volume</th>\n",
              "    </tr>\n",
              "  </thead>\n",
              "  <tbody>\n",
              "    <tr>\n",
              "      <th>63</th>\n",
              "      <td>10/28/2020</td>\n",
              "      <td>49.0</td>\n",
              "      <td>49.15</td>\n",
              "      <td>47.78</td>\n",
              "      <td>47.96</td>\n",
              "      <td>-1.94</td>\n",
              "      <td>-3.89%</td>\n",
              "      <td>19886100</td>\n",
              "    </tr>\n",
              "  </tbody>\n",
              "</table>\n",
              "</div>"
            ],
            "text/plain": [
              "          Date  Open   High    Low  Close  Change    %Chg    Volume\n",
              "63  10/28/2020  49.0  49.15  47.78  47.96   -1.94  -3.89%  19886100"
            ]
          },
          "metadata": {
            "tags": []
          },
          "execution_count": 71
        }
      ]
    },
    {
      "cell_type": "code",
      "metadata": {
        "id": "48bCob3_1Al_",
        "colab": {
          "base_uri": "https://localhost:8080/",
          "height": 419
        },
        "outputId": "fc9ae26f-c0b7-499a-be63-9172c660d1ec"
      },
      "source": [
        "# get all of the data except the last row\r\n",
        "df = df.head(len(df)-1)\r\n",
        "#show data set\r\n",
        "df"
      ],
      "execution_count": 72,
      "outputs": [
        {
          "output_type": "execute_result",
          "data": {
            "text/html": [
              "<div>\n",
              "<style scoped>\n",
              "    .dataframe tbody tr th:only-of-type {\n",
              "        vertical-align: middle;\n",
              "    }\n",
              "\n",
              "    .dataframe tbody tr th {\n",
              "        vertical-align: top;\n",
              "    }\n",
              "\n",
              "    .dataframe thead th {\n",
              "        text-align: right;\n",
              "    }\n",
              "</style>\n",
              "<table border=\"1\" class=\"dataframe\">\n",
              "  <thead>\n",
              "    <tr style=\"text-align: right;\">\n",
              "      <th></th>\n",
              "      <th>Date</th>\n",
              "      <th>Open</th>\n",
              "      <th>High</th>\n",
              "      <th>Low</th>\n",
              "      <th>Close</th>\n",
              "      <th>Change</th>\n",
              "      <th>%Chg</th>\n",
              "      <th>Volume</th>\n",
              "    </tr>\n",
              "  </thead>\n",
              "  <tbody>\n",
              "    <tr>\n",
              "      <th>0</th>\n",
              "      <td>01/29/2021</td>\n",
              "      <td>48.85</td>\n",
              "      <td>49.1200</td>\n",
              "      <td>48.110</td>\n",
              "      <td>48.15</td>\n",
              "      <td>-1.00</td>\n",
              "      <td>-2.03%</td>\n",
              "      <td>18670200</td>\n",
              "    </tr>\n",
              "    <tr>\n",
              "      <th>1</th>\n",
              "      <td>01/28/2021</td>\n",
              "      <td>48.69</td>\n",
              "      <td>49.5000</td>\n",
              "      <td>48.610</td>\n",
              "      <td>49.15</td>\n",
              "      <td>0.62</td>\n",
              "      <td>+1.28%</td>\n",
              "      <td>17498800</td>\n",
              "    </tr>\n",
              "    <tr>\n",
              "      <th>2</th>\n",
              "      <td>01/27/2021</td>\n",
              "      <td>48.89</td>\n",
              "      <td>49.3200</td>\n",
              "      <td>48.230</td>\n",
              "      <td>48.53</td>\n",
              "      <td>-0.76</td>\n",
              "      <td>-1.54%</td>\n",
              "      <td>21242400</td>\n",
              "    </tr>\n",
              "    <tr>\n",
              "      <th>3</th>\n",
              "      <td>01/26/2021</td>\n",
              "      <td>48.91</td>\n",
              "      <td>49.4000</td>\n",
              "      <td>48.610</td>\n",
              "      <td>49.29</td>\n",
              "      <td>0.51</td>\n",
              "      <td>+1.05%</td>\n",
              "      <td>12922600</td>\n",
              "    </tr>\n",
              "    <tr>\n",
              "      <th>4</th>\n",
              "      <td>01/25/2021</td>\n",
              "      <td>48.42</td>\n",
              "      <td>48.8400</td>\n",
              "      <td>48.240</td>\n",
              "      <td>48.78</td>\n",
              "      <td>0.29</td>\n",
              "      <td>+0.60%</td>\n",
              "      <td>16604200</td>\n",
              "    </tr>\n",
              "    <tr>\n",
              "      <th>...</th>\n",
              "      <td>...</td>\n",
              "      <td>...</td>\n",
              "      <td>...</td>\n",
              "      <td>...</td>\n",
              "      <td>...</td>\n",
              "      <td>...</td>\n",
              "      <td>...</td>\n",
              "      <td>...</td>\n",
              "    </tr>\n",
              "    <tr>\n",
              "      <th>58</th>\n",
              "      <td>11/04/2020</td>\n",
              "      <td>49.43</td>\n",
              "      <td>50.2100</td>\n",
              "      <td>49.080</td>\n",
              "      <td>49.17</td>\n",
              "      <td>-0.18</td>\n",
              "      <td>-0.36%</td>\n",
              "      <td>12930800</td>\n",
              "    </tr>\n",
              "    <tr>\n",
              "      <th>59</th>\n",
              "      <td>11/03/2020</td>\n",
              "      <td>49.22</td>\n",
              "      <td>49.9600</td>\n",
              "      <td>49.000</td>\n",
              "      <td>49.35</td>\n",
              "      <td>0.73</td>\n",
              "      <td>+1.50%</td>\n",
              "      <td>15285000</td>\n",
              "    </tr>\n",
              "    <tr>\n",
              "      <th>60</th>\n",
              "      <td>11/02/2020</td>\n",
              "      <td>48.75</td>\n",
              "      <td>48.9500</td>\n",
              "      <td>48.240</td>\n",
              "      <td>48.62</td>\n",
              "      <td>0.56</td>\n",
              "      <td>+1.17%</td>\n",
              "      <td>15156100</td>\n",
              "    </tr>\n",
              "    <tr>\n",
              "      <th>61</th>\n",
              "      <td>10/30/2020</td>\n",
              "      <td>47.81</td>\n",
              "      <td>48.1216</td>\n",
              "      <td>47.365</td>\n",
              "      <td>48.06</td>\n",
              "      <td>0.04</td>\n",
              "      <td>+0.08%</td>\n",
              "      <td>15805000</td>\n",
              "    </tr>\n",
              "    <tr>\n",
              "      <th>62</th>\n",
              "      <td>10/29/2020</td>\n",
              "      <td>47.73</td>\n",
              "      <td>48.4750</td>\n",
              "      <td>47.300</td>\n",
              "      <td>48.02</td>\n",
              "      <td>0.06</td>\n",
              "      <td>+0.13%</td>\n",
              "      <td>15369800</td>\n",
              "    </tr>\n",
              "  </tbody>\n",
              "</table>\n",
              "<p>63 rows × 8 columns</p>\n",
              "</div>"
            ],
            "text/plain": [
              "          Date   Open     High     Low  Close  Change    %Chg    Volume\n",
              "0   01/29/2021  48.85  49.1200  48.110  48.15   -1.00  -2.03%  18670200\n",
              "1   01/28/2021  48.69  49.5000  48.610  49.15    0.62  +1.28%  17498800\n",
              "2   01/27/2021  48.89  49.3200  48.230  48.53   -0.76  -1.54%  21242400\n",
              "3   01/26/2021  48.91  49.4000  48.610  49.29    0.51  +1.05%  12922600\n",
              "4   01/25/2021  48.42  48.8400  48.240  48.78    0.29  +0.60%  16604200\n",
              "..         ...    ...      ...     ...    ...     ...     ...       ...\n",
              "58  11/04/2020  49.43  50.2100  49.080  49.17   -0.18  -0.36%  12930800\n",
              "59  11/03/2020  49.22  49.9600  49.000  49.35    0.73  +1.50%  15285000\n",
              "60  11/02/2020  48.75  48.9500  48.240  48.62    0.56  +1.17%  15156100\n",
              "61  10/30/2020  47.81  48.1216  47.365  48.06    0.04  +0.08%  15805000\n",
              "62  10/29/2020  47.73  48.4750  47.300  48.02    0.06  +0.13%  15369800\n",
              "\n",
              "[63 rows x 8 columns]"
            ]
          },
          "metadata": {
            "tags": []
          },
          "execution_count": 72
        }
      ]
    },
    {
      "cell_type": "code",
      "metadata": {
        "id": "ukWkQWaU1f2H"
      },
      "source": [
        "#create empty lists\r\n",
        "days = list()\r\n",
        "adj_close_prices = list()"
      ],
      "execution_count": 73,
      "outputs": []
    },
    {
      "cell_type": "code",
      "metadata": {
        "id": "9VMFglCR12BP"
      },
      "source": [
        "#get only date andadjusted closed prices.\r\n",
        "df_days = df.loc[:, 'Date']\r\n",
        "df_adj_close = df.loc[:, 'Close']"
      ],
      "execution_count": 74,
      "outputs": []
    },
    {
      "cell_type": "code",
      "metadata": {
        "id": "-rKVo6iTmHmX"
      },
      "source": [
        "#creat indipendent data set(dates)\r\n",
        "for day in df_days:\r\n",
        "  days.append([int(day.split('/')[1])])"
      ],
      "execution_count": 75,
      "outputs": []
    },
    {
      "cell_type": "code",
      "metadata": {
        "id": "tfLyp3Pg463E"
      },
      "source": [
        "#create the dependent data set adj close price\r\n",
        "for adj_close_price in df_adj_close:\r\n",
        "  adj_close_prices.append(float(adj_close_price))"
      ],
      "execution_count": 76,
      "outputs": []
    },
    {
      "cell_type": "code",
      "metadata": {
        "id": "0dO4ZisF5Crp",
        "colab": {
          "base_uri": "https://localhost:8080/"
        },
        "outputId": "65452c5e-0217-445e-dcec-84b5ab99c9b6"
      },
      "source": [
        "#show the days\r\n",
        "days"
      ],
      "execution_count": 77,
      "outputs": [
        {
          "output_type": "execute_result",
          "data": {
            "text/plain": [
              "[[29],\n",
              " [28],\n",
              " [27],\n",
              " [26],\n",
              " [25],\n",
              " [22],\n",
              " [21],\n",
              " [20],\n",
              " [19],\n",
              " [15],\n",
              " [14],\n",
              " [13],\n",
              " [12],\n",
              " [11],\n",
              " [8],\n",
              " [7],\n",
              " [6],\n",
              " [5],\n",
              " [4],\n",
              " [31],\n",
              " [30],\n",
              " [29],\n",
              " [28],\n",
              " [24],\n",
              " [23],\n",
              " [22],\n",
              " [21],\n",
              " [18],\n",
              " [17],\n",
              " [16],\n",
              " [15],\n",
              " [14],\n",
              " [11],\n",
              " [10],\n",
              " [9],\n",
              " [8],\n",
              " [7],\n",
              " [4],\n",
              " [3],\n",
              " [2],\n",
              " [1],\n",
              " [30],\n",
              " [27],\n",
              " [25],\n",
              " [24],\n",
              " [23],\n",
              " [20],\n",
              " [19],\n",
              " [18],\n",
              " [17],\n",
              " [16],\n",
              " [13],\n",
              " [12],\n",
              " [11],\n",
              " [10],\n",
              " [9],\n",
              " [6],\n",
              " [5],\n",
              " [4],\n",
              " [3],\n",
              " [2],\n",
              " [30],\n",
              " [29]]"
            ]
          },
          "metadata": {
            "tags": []
          },
          "execution_count": 77
        }
      ]
    },
    {
      "cell_type": "code",
      "metadata": {
        "colab": {
          "base_uri": "https://localhost:8080/"
        },
        "id": "adisydyz-jos",
        "outputId": "59531ac4-41fd-4f28-c36b-cc33abc0b306"
      },
      "source": [
        "#show djusted closed\r\n",
        "adj_close_prices"
      ],
      "execution_count": 78,
      "outputs": [
        {
          "output_type": "execute_result",
          "data": {
            "text/plain": [
              "[48.15,\n",
              " 49.15,\n",
              " 48.53,\n",
              " 49.29,\n",
              " 48.78,\n",
              " 48.49,\n",
              " 48.95,\n",
              " 48.68,\n",
              " 48.51,\n",
              " 48.7,\n",
              " 49.23,\n",
              " 50.16,\n",
              " 50.11,\n",
              " 50.2,\n",
              " 51.08,\n",
              " 49.96,\n",
              " 50.52,\n",
              " 52.18,\n",
              " 52.76,\n",
              " 54.84,\n",
              " 54.44,\n",
              " 54.13,\n",
              " 54.16,\n",
              " 53.44,\n",
              " 53.08,\n",
              " 52.76,\n",
              " 52.81,\n",
              " 53.74,\n",
              " 53.27,\n",
              " 53.06,\n",
              " 53.84,\n",
              " 53.27,\n",
              " 53.35,\n",
              " 53.05,\n",
              " 53.33,\n",
              " 53.18,\n",
              " 52.99,\n",
              " 53.85,\n",
              " 52.78,\n",
              " 52.11,\n",
              " 52.04,\n",
              " 51.6,\n",
              " 52.7,\n",
              " 52.93,\n",
              " 53.22,\n",
              " 52.68,\n",
              " 52.67,\n",
              " 53.13,\n",
              " 52.61,\n",
              " 53.68,\n",
              " 53.85,\n",
              " 53.45,\n",
              " 53.01,\n",
              " 53.58,\n",
              " 53.98,\n",
              " 52.57,\n",
              " 49.45,\n",
              " 49.44,\n",
              " 49.17,\n",
              " 49.35,\n",
              " 48.62,\n",
              " 48.06,\n",
              " 48.02]"
            ]
          },
          "metadata": {
            "tags": []
          },
          "execution_count": 78
        }
      ]
    },
    {
      "cell_type": "code",
      "metadata": {
        "colab": {
          "base_uri": "https://localhost:8080/"
        },
        "id": "0qEGT1ow-u2C",
        "outputId": "09860922-cbf5-4bbf-88e3-bb2ea97db60a"
      },
      "source": [
        "#create 3 models\r\n",
        "lin_svr = SVR(kernel='linear', C= 1000.0)\r\n",
        "lin_svr.fit(days, adj_close_prices)\r\n",
        "\r\n",
        "poly_svr = SVR(kernel='poly', C= 1000.0, degree= 2)\r\n",
        "poly_svr.fit(days, adj_close_prices)\r\n",
        "\r\n",
        "rbf_svr = SVR(kernel='rbf', C= 1000.0, gamma=0.85)\r\n",
        "rbf_svr.fit(days, adj_close_prices)\r\n",
        "\r\n"
      ],
      "execution_count": 79,
      "outputs": [
        {
          "output_type": "execute_result",
          "data": {
            "text/plain": [
              "SVR(C=1000.0, cache_size=200, coef0=0.0, degree=3, epsilon=0.1, gamma=0.85,\n",
              "    kernel='rbf', max_iter=-1, shrinking=True, tol=0.001, verbose=False)"
            ]
          },
          "metadata": {
            "tags": []
          },
          "execution_count": 79
        }
      ]
    },
    {
      "cell_type": "code",
      "metadata": {
        "colab": {
          "base_uri": "https://localhost:8080/",
          "height": 537
        },
        "id": "17ukGOENCzNe",
        "outputId": "48b9eb7a-a92d-4bbb-fec2-416087b046fb"
      },
      "source": [
        "#Plot the models\r\n",
        "plt.figure(figsize=(16,8))\r\n",
        "plt.scatter(days, adj_close_prices, color = 'black', label = 'Data')\r\n",
        "plt.plot(days, rbf_svr.predict(days), color = 'green', label = 'RBF Model')\r\n",
        "plt.plot(days, poly_svr.predict(days), color = 'orange', label = 'Poly Model')\r\n",
        "plt.plot(days, lin_svr.predict(days), color = 'blue', label = 'Linear Model')\r\n",
        "plt.xlabel('Days')\r\n",
        "plt.ylabel('Adj Close Price ($)')\r\n",
        "plt.legend()\r\n",
        "plt.show()\r\n",
        "\r\n"
      ],
      "execution_count": 81,
      "outputs": [
        {
          "output_type": "display_data",
          "data": {
            "image/png": "[encoded data removed]",
            "text/plain": [
              "<Figure size 1152x576 with 1 Axes>"
            ]
          },
          "metadata": {
            "tags": []
          }
        }
      ]
    },
    {
      "cell_type": "code",
      "metadata": {
        "colab": {
          "base_uri": "https://localhost:8080/"
        },
        "id": "ustDqmORE91J",
        "outputId": "9acbdb82-c069-4dcd-f7f1-2ef7759b000b"
      },
      "source": [
        "#Show the predicted price for the given day\r\n",
        "day = [[30]]\r\n",
        "print('The RBF SVR predict price:', rbf_svr.predict(day))\r\n",
        "print('The Linear SVR predicted price:', lin_svr.predict(day))\r\n",
        "print('The Polynomial SVR predicted price:', poly_svr.predict(day))"
      ],
      "execution_count": 82,
      "outputs": [
        {
          "output_type": "stream",
          "text": [
            "The RBF SVR predict price: [51.5971987]\n",
            "The Linear SVR predicted price: [52.96478261]\n",
            "The Polynomial SVR predicted price: [52.7551435]\n"
          ],
          "name": "stdout"
        }
      ]
    },
    {
      "cell_type": "code",
      "metadata": {
        "colab": {
          "base_uri": "https://localhost:8080/"
        },
        "id": "Zy9Ydbx6GSXm",
        "outputId": "91ab3773-51af-4c7c-9217-44b7690fe6c9"
      },
      "source": [
        "print(actual_price)"
      ],
      "execution_count": 89,
      "outputs": [
        {
          "output_type": "stream",
          "text": [
            "          Date  Open   High    Low  Close  Change    %Chg    Volume\n",
            "63  10/28/2020  49.0  49.15  47.78  47.96   -1.94  -3.89%  19886100\n"
          ],
          "name": "stdout"
        }
      ]
    }
  ]
}